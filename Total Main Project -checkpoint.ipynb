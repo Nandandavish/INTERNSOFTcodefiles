{
 "cells": [
  {
   "cell_type": "code",
   "execution_count": 2,
   "metadata": {},
   "outputs": [],
   "source": [
    "import os\n",
    "import time\n",
    "import subprocess\n",
    "import json"
   ]
  },
  {
   "cell_type": "code",
   "execution_count": 3,
   "metadata": {},
   "outputs": [],
   "source": [
    "import wolframalpha\n",
    "import requests\n",
    "import webbrowser\n",
    "import wikipedia\n",
    "import datetime"
   ]
  },
  {
   "cell_type": "code",
   "execution_count": 4,
   "metadata": {},
   "outputs": [],
   "source": [
    "import speech_recognition as sr\n",
    "import pyttsx3"
   ]
  },
  {
   "cell_type": "code",
   "execution_count": 5,
   "metadata": {},
   "outputs": [
    {
     "name": "stdout",
     "output_type": "stream",
     "text": [
      "Loading your AI personal assistant friday\n"
     ]
    }
   ],
   "source": [
    "print(\"Loading your AI personal assistant friday\")"
   ]
  },
  {
   "cell_type": "code",
   "execution_count": 6,
   "metadata": {},
   "outputs": [],
   "source": [
    "engine = pyttsx3.init('sapi5')\n",
    "voices = engine.getProperty('voices')\n",
    "engine.setProperty(\"voice\", 'voices[0].id')"
   ]
  },
  {
   "cell_type": "code",
   "execution_count": 7,
   "metadata": {},
   "outputs": [],
   "source": [
    "def speak(text):\n",
    "    engine.say(text)\n",
    "    engine.runAndWait()"
   ]
  },
  {
   "cell_type": "code",
   "execution_count": 8,
   "metadata": {},
   "outputs": [],
   "source": [
    "def wishMe():\n",
    "    hour = datetime.datetime.now().hour\n",
    "    if hour>=0 and hour<12:\n",
    "        speak(\"Hello,Good Morning nandhu\")\n",
    "        print(\"Hello,Good Morning nandhu\")\n",
    "    elif hour>=12 and hour<18:\n",
    "        speak(\"Hello,Good Afternoon had your lunch nandhu\")\n",
    "        print(\"Hello,Good Afternoon had your lunch nandhu\")\n",
    "    else:\n",
    "        speak(\"Hello,Good Evening nandhu,how was the day\")\n",
    "        print(\"Hello,Good Evening nandhu,hoe was the day\")\n",
    "    \n",
    "    "
   ]
  },
  {
   "cell_type": "code",
   "execution_count": 9,
   "metadata": {},
   "outputs": [],
   "source": [
    "def takeCommand():\n",
    "    r = sr.Recognizer()\n",
    "    with sr.Microphone() as source:\n",
    "        print(\"Listening...\")\n",
    "        audio = r.listen(source)\n",
    "\n",
    "        try:\n",
    "            statement=r.recognize_google(audio,language='en-in')\n",
    "            print(f\"user said:{statement}\\n\")\n",
    "\n",
    "        except Exception as e:\n",
    "            speak(\"Pardon me, sorry...\")\n",
    "            return \"None\"\n",
    "        return statement"
   ]
  },
  {
   "cell_type": "code",
   "execution_count": 10,
   "metadata": {},
   "outputs": [
    {
     "name": "stdout",
     "output_type": "stream",
     "text": [
      "Hello,Good Evening nandhu,hoe was the day\n"
     ]
    }
   ],
   "source": [
    "\n",
    "speak(\"Loading your AI personal assistant friday\")\n",
    "wishMe()\n"
   ]
  },
  {
   "cell_type": "code",
   "execution_count": null,
   "metadata": {},
   "outputs": [
    {
     "name": "stdout",
     "output_type": "stream",
     "text": [
      "Listening...\n",
      "Listening...\n",
      "Listening...\n",
      "Listening...\n",
      "Listening...\n",
      "Listening...\n"
     ]
    }
   ],
   "source": [
    "if __name__=='__main__':\n",
    "    \n",
    "    while True:\n",
    "        speak(\"Tell me how can I help you Boss?\")\n",
    "        statement = takeCommand().lower()\n",
    "        if statement==0:\n",
    "            continue\n",
    "\n",
    "        if \"good bye\" in statement or \"ok bye\" in statement or \"stop\" in statement:\n",
    "            speak(\"your personal AI assistant jarvis is shutting down,Good bye\")\n",
    "            print(\"your personal AI assistant jarvis  is shutting down,Good bye\")\n",
    "            break\n",
    "            \n",
    "        if 'wikipedia' in statement:\n",
    "            speak(\"Searching Wikipedia...\")\n",
    "            statement =statement.replace(\"wikipedia\",\" \")\n",
    "            results = wikipedia.summary(statement, sentences=3)\n",
    "            speak(\"According to Wikipedia\")\n",
    "            print(results)\n",
    "            speak(results)\n",
    "            \n",
    "        elif \"open youtube\" in statement:\n",
    "            webbrowser.open_new_tab(\"https://www.youtube.com\")\n",
    "            speak(\"youtube is open,Boss\")\n",
    "            time.sleep(5)\n",
    "            \n",
    "        elif \"open google\" in statement:\n",
    "            webbrowser.open_new_tab(\"https://www.google.com\")\n",
    "            speak(\"Google chrome is open,Boss\")\n",
    "            time.sleep(5)\n",
    "            \n",
    "        elif \"open gmail\" in statement:\n",
    "            webbrowser.open_new_tab(\"gmail.com\")\n",
    "            speak(\"Google Mail open,boss\")\n",
    "            time.sleep(5) \n",
    "          \n",
    "        \n",
    "             \n",
    "        elif \"weather\" in statement:\n",
    "            api_key=\"8ef61edcf1c576d65d836254e11ea420\"\n",
    "            base_url=\"https://api.openweathermap.org/data/2.5/weather?\"\n",
    "            speak(\"whats the city name\")\n",
    "            city_name=takeCommand()\n",
    "            complete_url=base_url+\"appid=\"+api_key+\"&q=\"+city_name\n",
    "            response = requests.get(complete_url)\n",
    "            x=response.json()\n",
    "            if x[\"cod\"]!=\"404\":\n",
    "                y=x[\"main\"]\n",
    "                current_temperature = y[\"temp\"]\n",
    "                current_humidity = y[\"humidity\"]\n",
    "                z = x[\"weather\"]\n",
    "                weather_description = z[0][\"description\"]\n",
    "                speak(\" Temperature in kelvin unit is \" +\n",
    "                      str(current_temperature) +\n",
    "                      \"\\n humidity in percentage is \" +\n",
    "                      str(current_humidity) +\n",
    "                      \"\\n description  \" +\n",
    "                      str(weather_description))\n",
    "                print(\" Temperature in kelvin unit = \" +\n",
    "                      str(current_temperature) +\n",
    "                      \"\\n humidity (in percentage) = \" +\n",
    "                      str(current_humidity) +\n",
    "                      \"\\n description = \" +\n",
    "                      str(weather_description))\n",
    "\n",
    "            else:\n",
    "                speak(\" City Not Found \")\n",
    "                \n",
    "        elif \"time\" in statement:\n",
    "            strTime = datetime.datetime.now().strftime(\"%H:%M:%S\")\n",
    "            speak(f\"the time is {strTime}\")\n",
    "            \n",
    "        elif \"who are you\" in statement or \"what can you do\" in statement:\n",
    "            speak('I am friday version 1 point 0 your personal assistant. I am programmed to minor tasks like'\n",
    "                  'opening YouTube, Gmail, Google chrome and stack overflow, Predict current time, take a photo, search Wikipedia to abstract required data, predict weather in different cities'\n",
    "                  'get top headline news from Times of India and can answer computational and geographical questions too!')\n",
    "                  \n",
    "        elif \"who made you\" in statement or \"who created you\" in statement or \"who discovered you\" in statement:\n",
    "            speak(\"I WAS BUILT BY THE boss nandhu\")\n",
    "            print(\"I WAS BUILT BY THE boss nandhu\")\n",
    "                  \n",
    "        elif \"open stack overflow\" in statement:\n",
    "            webbrowser.open_new_tab(\"https://stackoverflow.com/login\")\n",
    "            time.sleep(5)\n",
    "                  \n",
    "        elif \"news\" in statement:\n",
    "            news = webbrowser.open_new_tab(\"https://timesofindia.indiatimes.com/home/headlines\")\n",
    "            speak(\"here are some headlines for you from the times of India - happy reading\")\n",
    "            time.sleep(7)\n",
    "                  \n",
    "        elif \"search\" in statement or \"look up\" in statement:\n",
    "            statement = statement.replace(\"search \",\" \")\n",
    "            statement = statement.replace(\"look up \",\" \")\n",
    "            webbrowser.open_new_tab(statement)\n",
    "        \n",
    "        elif \"ask\" in statement:\n",
    "            speak(\"I can answer to computational and geographical questions too try me !! what do you want to ask\")\n",
    "            question = takeCommand()\n",
    "            app_id=\"R2K75H-7ELALHR35X\"\n",
    "            Client = wolframalpha.Client('R2K75H-7ELALHR35X')\n",
    "            res = Client.query(question)\n",
    "            answer = next(res.results).text\n",
    "            speak(answer)\n",
    "            print(answer)\n",
    "            \n",
    "        elif \"thanks\" in statement:\n",
    "            speak(\"MY PLEASURE HELPING YOU,friday IS ALWAYS HERE TO HELP YOU\")\n",
    "                  \n",
    "        elif \"log off\" in statement or \"sign out\" in statement or \"shutdown\" in statement or \"shut down\" in statement:\n",
    "            speak(\"ok, Your pc will shut down in 10 seconds - make sure you have saved and exit from all applications\")\n",
    "            subprocess.call(['shutdown',\"/l\"])\n",
    "                  \n",
    "    \n",
    "time.sleep(3)"
   ]
  },
  {
   "cell_type": "code",
   "execution_count": null,
   "metadata": {},
   "outputs": [],
   "source": []
  }
 ],
 "metadata": {
  "kernelspec": {
   "display_name": "Python 3",
   "language": "python",
   "name": "python3"
  },
  "language_info": {
   "codemirror_mode": {
    "name": "ipython",
    "version": 3
   },
   "file_extension": ".py",
   "mimetype": "text/x-python",
   "name": "python",
   "nbconvert_exporter": "python",
   "pygments_lexer": "ipython3",
   "version": "3.8.5"
  }
 },
 "nbformat": 4,
 "nbformat_minor": 4
}
